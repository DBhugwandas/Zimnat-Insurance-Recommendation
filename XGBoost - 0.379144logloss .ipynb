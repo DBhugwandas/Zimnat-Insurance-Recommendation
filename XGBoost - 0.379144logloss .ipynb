{
 "cells": [
  {
   "cell_type": "markdown",
   "metadata": {},
   "source": [
    "## Zimnat Insurance Product Recommendation Challenge"
   ]
  },
  {
   "cell_type": "code",
   "execution_count": 1,
   "metadata": {
    "colab": {
     "base_uri": "https://localhost:8080/",
     "height": 510
    },
    "colab_type": "code",
    "collapsed": false,
    "executionInfo": {
     "elapsed": 5109,
     "status": "ok",
     "timestamp": 1599495168296,
     "user": {
      "displayName": "Darrel Bhugwandas",
      "photoUrl": "",
      "userId": "11114491294548112497"
     },
     "user_tz": -120
    },
    "id": "0HR1o2xoIe_Q",
    "outputId": "ede91ce9-6e98-4083-a64e-883f8115e77c"
   },
   "outputs": [
    {
     "name": "stderr",
     "output_type": "stream",
     "text": [
      "C:\\Users\\Darrel\\Anaconda3\\lib\\site-packages\\pandas\\compat\\_optional.py:106: UserWarning: Pandas requires version '1.2.1' or newer of 'bottleneck' (version '1.2.0' currently installed).\n",
      "  warnings.warn(msg, UserWarning)\n"
     ]
    }
   ],
   "source": [
    "#Importing all the Required Libraries\n",
    "\n",
    "import pandas as pd\n",
    "import numpy\n",
    "import matplotlib.pyplot as plt\n",
    "import seaborn as sns\n",
    "import numpy as np\n",
    "%matplotlib inline\n",
    "\n",
    "from sklearn.ensemble import RandomForestClassifier\n",
    "from sklearn.model_selection import cross_val_score\n",
    "from sklearn.metrics import classification_report, accuracy_score, make_scorer,f1_score,log_loss\n",
    "import xgboost as xgb\n",
    "\n",
    "#Setting Random State\n",
    "RANDOM_STATE = 1\n",
    "np.random.seed(RANDOM_STATE)\n",
    "\n",
    "\n",
    "#Installing optuna - Only for Google Collab Environment\n",
    "#!pip install optuna\n"
   ]
  },
  {
   "cell_type": "code",
   "execution_count": 2,
   "metadata": {
    "colab": {},
    "colab_type": "code",
    "collapsed": true,
    "executionInfo": {
     "elapsed": 1535,
     "status": "ok",
     "timestamp": 1599496179926,
     "user": {
      "displayName": "Darrel Bhugwandas",
      "photoUrl": "",
      "userId": "11114491294548112497"
     },
     "user_tz": -120
    },
    "id": "xRCoItheIe_X"
   },
   "outputs": [],
   "source": [
    "#Importing the data to pandas DataFrame\n",
    "df_train = pd.read_csv('Train.csv')\n",
    "df_test = pd.read_csv('Test.csv')"
   ]
  },
  {
   "cell_type": "code",
   "execution_count": 3,
   "metadata": {
    "collapsed": false
   },
   "outputs": [
    {
     "name": "stdout",
     "output_type": "stream",
     "text": [
      "Training Set dimesions:  (29132, 29)\n",
      "Test Set dimesions:  (10000, 29)\n"
     ]
    }
   ],
   "source": [
    "print(\"Training Set dimesions: \",df_train.shape)\n",
    "print(\"Test Set dimesions: \",df_test.shape)"
   ]
  },
  {
   "cell_type": "code",
   "execution_count": 4,
   "metadata": {
    "collapsed": false
   },
   "outputs": [
    {
     "data": {
      "text/plain": [
       "<matplotlib.axes._subplots.AxesSubplot at 0x21b944078d0>"
      ]
     },
     "execution_count": 4,
     "metadata": {},
     "output_type": "execute_result"
    },
    {
     "data": {
      "image/png": "[encoded data removed]",
      "text/plain": [
       "<Figure size 432x288 with 1 Axes>"
      ]
     },
     "metadata": {},
     "output_type": "display_data"
    }
   ],
   "source": [
    "#Checking for Missing Values\n",
    "df_train['join_date'].value_counts().sort_values(ascending=False).head(20).plot(kind=\"bar\")"
   ]
  },
  {
   "cell_type": "code",
   "execution_count": 5,
   "metadata": {
    "colab": {},
    "colab_type": "code",
    "collapsed": true,
    "executionInfo": {
     "elapsed": 917,
     "status": "ok",
     "timestamp": 1599496179927,
     "user": {
      "displayName": "Darrel Bhugwandas",
      "photoUrl": "",
      "userId": "11114491294548112497"
     },
     "user_tz": -120
    },
    "id": "xWQkTI6HIe_d"
   },
   "outputs": [],
   "source": [
    "#checking for the most common date and imputing by most common\n",
    "df_train['join_date'].fillna(df_train['join_date'].mode()[0],inplace=True,axis=0)\n",
    "df_test['join_date'].fillna(df_test['join_date'].mode()[0],inplace=True)"
   ]
  },
  {
   "cell_type": "code",
   "execution_count": 6,
   "metadata": {
    "collapsed": false
   },
   "outputs": [
    {
     "name": "stdout",
     "output_type": "stream",
     "text": [
      "Variable: sex  Number of Categories: 2\n",
      "Variable: marital_status  Number of Categories: 8\n",
      "Variable: branch_code  Number of Categories: 15\n",
      "Variable: occupation_code  Number of Categories: 233\n",
      "Variable: occupation_category_code  Number of Categories: 6\n"
     ]
    }
   ],
   "source": [
    "#Checking the number of Categories for Categorical Columns\n",
    "\n",
    "for cols in df_train.columns:\n",
    "    if df_train[cols].dtype == \"O\" and (cols not in [\"ID\",\"join_date\"]):\n",
    "        print(\"Variable:\",cols,\" Number of Categories:\",len(df_train[cols].value_counts()))"
   ]
  },
  {
   "cell_type": "code",
   "execution_count": 7,
   "metadata": {
    "colab": {},
    "colab_type": "code",
    "collapsed": false,
    "executionInfo": {
     "elapsed": 11470,
     "status": "ok",
     "timestamp": 1599496191269,
     "user": {
      "displayName": "Darrel Bhugwandas",
      "photoUrl": "",
      "userId": "11114491294548112497"
     },
     "user_tz": -120
    },
    "id": "ceDphOjWIe_i"
   },
   "outputs": [
    {
     "name": "stderr",
     "output_type": "stream",
     "text": [
      "C:\\Users\\Darrel\\Anaconda3\\lib\\site-packages\\pandas\\compat\\_optional.py:106: UserWarning: Pandas requires version '2.6.2' or newer of 'numexpr' (version '2.6.1' currently installed).\n",
      "  warnings.warn(msg, UserWarning)\n"
     ]
    }
   ],
   "source": [
    "#One-hot encoding for categories where we do not have many categories\n",
    "cols = ['sex','marital_status','branch_code','occupation_category_code']\n",
    "df_train = pd.get_dummies(df_train ,columns = cols,prefix=cols)\n",
    "df_test= pd.get_dummies(df_test ,columns = cols,prefix=cols)\n",
    "\n",
    "#Feature Engineering ------- Creating additional features\n",
    "\n",
    "for df in [df_train,df_test]:\n",
    "    df['day_joined'] = pd.DatetimeIndex(df['join_date']).day\n",
    "    df['month_joined'] = pd.DatetimeIndex(df['join_date']).month\n",
    "    df['year_joined'] = pd.DatetimeIndex(df['join_date']).year\n",
    "    df['Age_at_join'] = df['year_joined'] - df['birth_year']\n",
    "    df['time_elapsed_joined'] = (pd.to_datetime('08/01/2020') - pd.DatetimeIndex(df['join_date'])).days\n",
    "    df.drop(columns='join_date',inplace=True)\n",
    "    \n",
    "    \n",
    "# We will only encode the top 95% of categories for the occupation code as there are too may categories to do one-hot\n",
    "value_cum = df_train.occupation_code.value_counts().sort_values(ascending=False).cumsum()/df_train.shape[0]\n",
    "topn_encode = value_cum[value_cum < 0.95]\n",
    "\n",
    "topn = list(topn_encode.index)\n",
    "\n",
    "for df in [df_train,df_test]:\n",
    "    for categories in topn:\n",
    "        df['occupation_code_'+categories] = np.where(df['occupation_code']==categories,1,0)\n",
    "    df.drop(columns='occupation_code',inplace=True)"
   ]
  },
  {
   "cell_type": "code",
   "execution_count": 9,
   "metadata": {
    "colab": {
     "base_uri": "https://localhost:8080/",
     "height": 282
    },
    "colab_type": "code",
    "collapsed": false,
    "executionInfo": {
     "elapsed": 6828,
     "status": "ok",
     "timestamp": 1599496191282,
     "user": {
      "displayName": "Darrel Bhugwandas",
      "photoUrl": "",
      "userId": "11114491294548112497"
     },
     "user_tz": -120
    },
    "id": "qqgbXBWJVUMO",
    "outputId": "ee333959-9b8b-4f0d-db46-740162500624"
   },
   "outputs": [
    {
     "name": "stdout",
     "output_type": "stream",
     "text": [
      "Training Set dimesions:  (29132, 110)\n",
      "Test Set dimesions:  (10000, 110)\n"
     ]
    }
   ],
   "source": [
    "print(\"Training Set dimesions: \",df_train.shape)\n",
    "print(\"Test Set dimesions: \",df_test.shape)"
   ]
  },
  {
   "cell_type": "code",
   "execution_count": 10,
   "metadata": {
    "colab": {},
    "colab_type": "code",
    "collapsed": true,
    "executionInfo": {
     "elapsed": 4445,
     "status": "ok",
     "timestamp": 1599496191284,
     "user": {
      "displayName": "Darrel Bhugwandas",
      "photoUrl": "",
      "userId": "11114491294548112497"
     },
     "user_tz": -120
    },
    "id": "xc0rN-OYIe_u"
   },
   "outputs": [],
   "source": [
    "# Setting up the dataset for use in the model\n",
    "product_cols = ['P5DA', 'RIBP', '8NN1', '7POT','66FJ', 'GYSR', 'SOP4', 'RVSZ', 'PYUQ', 'LJR9', 'N2MW', \n",
    "                'AHXO', 'BSTQ','FM3X', 'K6QO', 'QBOL', 'JWFN', 'JZ9D', 'J9JW', 'GHYX', 'ECY3']\n",
    "\n",
    "#Converting product to numeric label\n",
    "product_ref = dict()\n",
    "for i,x in enumerate(product_cols):\n",
    "    product_ref[x] = i"
   ]
  },
  {
   "cell_type": "code",
   "execution_count": 11,
   "metadata": {
    "colab": {},
    "colab_type": "code",
    "collapsed": true,
    "executionInfo": {
     "elapsed": 32865,
     "status": "ok",
     "timestamp": 1599496220517,
     "user": {
      "displayName": "Darrel Bhugwandas",
      "photoUrl": "",
      "userId": "11114491294548112497"
     },
     "user_tz": -120
    },
    "id": "aF4TyBA4Ie_z"
   },
   "outputs": [],
   "source": [
    "#Converting the dataframe to duplicate observations across different products for the same ID\n",
    "transpose_df = pd.melt(df_train,id_vars=['ID'],value_vars=product_cols).sort_values('ID')\n",
    "transpose_df = transpose_df.loc[transpose_df.value ==1]\n",
    "\n",
    "#Merging to main training set\n",
    "merged_df = pd.merge(df_train, transpose_df, on='ID', how='left')\n",
    "\n",
    "#Where target product in row, setting the value for product to zero\n",
    "def Replace_Targets(df):\n",
    "    for product in product_cols:\n",
    "        if df[product] == 1 and df['variable'] == product:\n",
    "            df[product] = 0\n",
    "        \n",
    "    return df  \n",
    "\n",
    "merged_df = merged_df.apply(Replace_Targets,axis=1)\n",
    "\n",
    "#Cleaning up and remapping products to numeric values\n",
    "merged_df.rename(columns={'variable':'Target'},inplace=True)\n",
    "merged_df.drop(columns=['value'],inplace=True)\n",
    "merged_df['Target'] = merged_df['Target'].map(product_ref)"
   ]
  },
  {
   "cell_type": "code",
   "execution_count": 48,
   "metadata": {
    "colab": {
     "base_uri": "https://localhost:8080/",
     "height": 525
    },
    "colab_type": "code",
    "collapsed": false,
    "executionInfo": {
     "elapsed": 42476,
     "status": "ok",
     "timestamp": 1599496237038,
     "user": {
      "displayName": "Darrel Bhugwandas",
      "photoUrl": "",
      "userId": "11114491294548112497"
     },
     "user_tz": -120
    },
    "id": "iztlwboz4n67",
    "outputId": "b2bad6d7-80ab-4dab-e890-49bcb1165306"
   },
   "outputs": [
    {
     "data": {
      "image/png": "[encoded data removed]",
      "text/plain": [
       "<Figure size 432x288 with 1 Axes>"
      ]
     },
     "metadata": {},
     "output_type": "display_data"
    }
   ],
   "source": [
    "#Feature selection using RandomForestClassifer\n",
    "Best_Features = RandomForestClassifier().fit(merged_df.drop(columns = [\"ID\",\"Target\"]),merged_df.Target).feature_importances_\n",
    "\n",
    "#Creating X and Y dataframes\n",
    "X = merged_df.drop(columns = [\"ID\",\"Target\"])\n",
    "y = merged_df.Target\n",
    "\n",
    "# Selecting the TopN Features --- Feature Selection\n",
    "\n",
    "combined = dict(zip(X.columns,Best_Features))\n",
    "FI = pd.Series(combined)\n",
    "\n",
    "\n",
    "FI.sort_values(ascending=False).head(10).plot(kind='bar')\n",
    "plt.title('Best Features',fontsize=20)\n",
    "plt.xlabel('Feature Name',fontsize=15)\n",
    "plt.ylabel('Feature Importance',fontsize=15)\n",
    "\n",
    "\n",
    "BF = list(FI.sort_values(ascending=False).head(10).index)\n"
   ]
  },
  {
   "cell_type": "code",
   "execution_count": 54,
   "metadata": {
    "colab": {
     "base_uri": "https://localhost:8080/",
     "height": 357
    },
    "colab_type": "code",
    "collapsed": false,
    "executionInfo": {
     "elapsed": 36611,
     "status": "ok",
     "timestamp": 1599496237040,
     "user": {
      "displayName": "Darrel Bhugwandas",
      "photoUrl": "",
      "userId": "11114491294548112497"
     },
     "user_tz": -120
    },
    "id": "LWhhnXvaRWIC",
    "outputId": "c733c1de-f9b6-46eb-f2c2-bc947840ea8f"
   },
   "outputs": [
    {
     "data": {
      "text/plain": [
       "7     25328\n",
       "14    21629\n",
       "15     6833\n",
       "8      2173\n",
       "1      1780\n",
       "17     1425\n",
       "18     1418\n",
       "20     1102\n",
       "19      902\n",
       "10      838\n",
       "11      539\n",
       "6       431\n",
       "9       354\n",
       "4       339\n",
       "12      324\n",
       "3       316\n",
       "16      311\n",
       "2       157\n",
       "13      110\n",
       "0        40\n",
       "5         4\n",
       "Name: Target, dtype: int64"
      ]
     },
     "execution_count": 54,
     "metadata": {},
     "output_type": "execute_result"
    }
   ],
   "source": [
    "#Checking the distribution of classes\n",
    "merged_df['Target'].value_counts().sort_values(ascending=False)"
   ]
  },
  {
   "cell_type": "code",
   "execution_count": 139,
   "metadata": {
    "colab": {
     "base_uri": "https://localhost:8080/",
     "height": 309
    },
    "colab_type": "code",
    "collapsed": false,
    "executionInfo": {
     "elapsed": 32749,
     "status": "ok",
     "timestamp": 1599496237042,
     "user": {
      "displayName": "Darrel Bhugwandas",
      "photoUrl": "",
      "userId": "11114491294548112497"
     },
     "user_tz": -120
    },
    "id": "bbFX9O3BIfAC",
    "outputId": "881016a2-ab9c-47f7-8dbc-a7eb8052c232"
   },
   "outputs": [
    {
     "name": "stderr",
     "output_type": "stream",
     "text": [
      "/usr/local/lib/python3.6/dist-packages/sklearn/utils/deprecation.py:87: FutureWarning: Function safe_indexing is deprecated; safe_indexing is deprecated in version 0.22 and will be removed in version 0.24.\n",
      "  warnings.warn(msg, category=FutureWarning)\n",
      "/usr/local/lib/python3.6/dist-packages/sklearn/utils/deprecation.py:87: FutureWarning: Function safe_indexing is deprecated; safe_indexing is deprecated in version 0.22 and will be removed in version 0.24.\n",
      "  warnings.warn(msg, category=FutureWarning)\n",
      "/usr/local/lib/python3.6/dist-packages/sklearn/utils/deprecation.py:87: FutureWarning: Function safe_indexing is deprecated; safe_indexing is deprecated in version 0.22 and will be removed in version 0.24.\n",
      "  warnings.warn(msg, category=FutureWarning)\n",
      "/usr/local/lib/python3.6/dist-packages/sklearn/utils/deprecation.py:87: FutureWarning: Function safe_indexing is deprecated; safe_indexing is deprecated in version 0.22 and will be removed in version 0.24.\n",
      "  warnings.warn(msg, category=FutureWarning)\n",
      "/usr/local/lib/python3.6/dist-packages/sklearn/utils/deprecation.py:87: FutureWarning: Function safe_indexing is deprecated; safe_indexing is deprecated in version 0.22 and will be removed in version 0.24.\n",
      "  warnings.warn(msg, category=FutureWarning)\n",
      "/usr/local/lib/python3.6/dist-packages/sklearn/utils/deprecation.py:87: FutureWarning: Function safe_indexing is deprecated; safe_indexing is deprecated in version 0.22 and will be removed in version 0.24.\n",
      "  warnings.warn(msg, category=FutureWarning)\n",
      "/usr/local/lib/python3.6/dist-packages/sklearn/utils/deprecation.py:87: FutureWarning: Function safe_indexing is deprecated; safe_indexing is deprecated in version 0.22 and will be removed in version 0.24.\n",
      "  warnings.warn(msg, category=FutureWarning)\n",
      "/usr/local/lib/python3.6/dist-packages/sklearn/utils/deprecation.py:87: FutureWarning: Function safe_indexing is deprecated; safe_indexing is deprecated in version 0.22 and will be removed in version 0.24.\n",
      "  warnings.warn(msg, category=FutureWarning)\n"
     ]
    }
   ],
   "source": [
    "# Oversampling classes using SMOTE\n",
    "from imblearn.over_sampling import SMOTE\n",
    "desired_classes = {5:50,0:100,13:200,2:300,19:3000,4:700,6:800,3:700}\n",
    "sm = SMOTE(random_state=RANDOM_STATE,sampling_strategy=desired_classes,k_neighbors=3)\n",
    "X_res,y_res = sm.fit_resample(X,y)"
   ]
  },
  {
   "cell_type": "code",
   "execution_count": 141,
   "metadata": {
    "colab": {
     "base_uri": "https://localhost:8080/",
     "height": 1000
    },
    "colab_type": "code",
    "collapsed": false,
    "executionInfo": {
     "elapsed": 2469567,
     "status": "ok",
     "timestamp": 1599503649596,
     "user": {
      "displayName": "Darrel Bhugwandas",
      "photoUrl": "",
      "userId": "11114491294548112497"
     },
     "user_tz": -120
    },
    "id": "aqrKeP9m-lAx",
    "outputId": "1e34b97f-e86f-467a-85fa-991dc6007270"
   },
   "outputs": [
    {
     "name": "stdout",
     "output_type": "stream",
     "text": [
      "[0]\tTrain-mlogloss:1.75072\tTest-mlogloss:1.75657\n",
      "Multiple eval metrics have been passed: 'Test-mlogloss' will be used for early stopping.\n",
      "\n",
      "Will train until Test-mlogloss hasn't improved in 10 rounds.\n",
      "[1]\tTrain-mlogloss:1.46651\tTest-mlogloss:1.47586\n",
      "[2]\tTrain-mlogloss:1.26797\tTest-mlogloss:1.2805\n",
      "[3]\tTrain-mlogloss:1.11963\tTest-mlogloss:1.1343\n",
      "[4]\tTrain-mlogloss:1.00351\tTest-mlogloss:1.02084\n",
      "[5]\tTrain-mlogloss:0.909045\tTest-mlogloss:0.928553\n",
      "[6]\tTrain-mlogloss:0.832306\tTest-mlogloss:0.853924\n",
      "[7]\tTrain-mlogloss:0.768725\tTest-mlogloss:0.792328\n",
      "[8]\tTrain-mlogloss:0.715646\tTest-mlogloss:0.741391\n",
      "[9]\tTrain-mlogloss:0.670223\tTest-mlogloss:0.69799\n",
      "[10]\tTrain-mlogloss:0.63206\tTest-mlogloss:0.661777\n",
      "[11]\tTrain-mlogloss:0.599564\tTest-mlogloss:0.631162\n",
      "[12]\tTrain-mlogloss:0.571653\tTest-mlogloss:0.605169\n",
      "[13]\tTrain-mlogloss:0.547763\tTest-mlogloss:0.583052\n",
      "[14]\tTrain-mlogloss:0.52667\tTest-mlogloss:0.563929\n",
      "[15]\tTrain-mlogloss:0.508472\tTest-mlogloss:0.547309\n",
      "[16]\tTrain-mlogloss:0.492097\tTest-mlogloss:0.53266\n",
      "[17]\tTrain-mlogloss:0.476885\tTest-mlogloss:0.519055\n",
      "[18]\tTrain-mlogloss:0.463987\tTest-mlogloss:0.507845\n",
      "[19]\tTrain-mlogloss:0.452904\tTest-mlogloss:0.498391\n",
      "[20]\tTrain-mlogloss:0.442462\tTest-mlogloss:0.489517\n",
      "[21]\tTrain-mlogloss:0.433245\tTest-mlogloss:0.481688\n",
      "[22]\tTrain-mlogloss:0.424804\tTest-mlogloss:0.474697\n",
      "[23]\tTrain-mlogloss:0.416757\tTest-mlogloss:0.468279\n",
      "[24]\tTrain-mlogloss:0.409667\tTest-mlogloss:0.462751\n",
      "[25]\tTrain-mlogloss:0.403228\tTest-mlogloss:0.457635\n",
      "[26]\tTrain-mlogloss:0.397444\tTest-mlogloss:0.453293\n",
      "[27]\tTrain-mlogloss:0.39169\tTest-mlogloss:0.448919\n",
      "[28]\tTrain-mlogloss:0.386448\tTest-mlogloss:0.445171\n",
      "[29]\tTrain-mlogloss:0.381865\tTest-mlogloss:0.441814\n",
      "[30]\tTrain-mlogloss:0.377147\tTest-mlogloss:0.438513\n",
      "[31]\tTrain-mlogloss:0.373117\tTest-mlogloss:0.435775\n",
      "[32]\tTrain-mlogloss:0.369296\tTest-mlogloss:0.433327\n",
      "[33]\tTrain-mlogloss:0.36548\tTest-mlogloss:0.430995\n",
      "[34]\tTrain-mlogloss:0.361755\tTest-mlogloss:0.428691\n",
      "[35]\tTrain-mlogloss:0.358109\tTest-mlogloss:0.426307\n",
      "[36]\tTrain-mlogloss:0.35503\tTest-mlogloss:0.424307\n",
      "[37]\tTrain-mlogloss:0.351935\tTest-mlogloss:0.422321\n",
      "[38]\tTrain-mlogloss:0.349163\tTest-mlogloss:0.42064\n",
      "[39]\tTrain-mlogloss:0.346424\tTest-mlogloss:0.419104\n",
      "[40]\tTrain-mlogloss:0.343748\tTest-mlogloss:0.417601\n",
      "[41]\tTrain-mlogloss:0.340985\tTest-mlogloss:0.416228\n",
      "[42]\tTrain-mlogloss:0.338401\tTest-mlogloss:0.414887\n",
      "[43]\tTrain-mlogloss:0.336005\tTest-mlogloss:0.413772\n",
      "[44]\tTrain-mlogloss:0.333499\tTest-mlogloss:0.412516\n",
      "[45]\tTrain-mlogloss:0.331314\tTest-mlogloss:0.411341\n",
      "[46]\tTrain-mlogloss:0.329257\tTest-mlogloss:0.410231\n",
      "[47]\tTrain-mlogloss:0.327186\tTest-mlogloss:0.409248\n",
      "[48]\tTrain-mlogloss:0.325244\tTest-mlogloss:0.408359\n",
      "[49]\tTrain-mlogloss:0.322961\tTest-mlogloss:0.407293\n",
      "[50]\tTrain-mlogloss:0.321115\tTest-mlogloss:0.406455\n",
      "[51]\tTrain-mlogloss:0.318855\tTest-mlogloss:0.405527\n",
      "[52]\tTrain-mlogloss:0.317082\tTest-mlogloss:0.40483\n",
      "[53]\tTrain-mlogloss:0.315331\tTest-mlogloss:0.404136\n",
      "[54]\tTrain-mlogloss:0.313136\tTest-mlogloss:0.40328\n",
      "[55]\tTrain-mlogloss:0.311524\tTest-mlogloss:0.402582\n",
      "[56]\tTrain-mlogloss:0.309755\tTest-mlogloss:0.401866\n",
      "[57]\tTrain-mlogloss:0.307866\tTest-mlogloss:0.401143\n",
      "[58]\tTrain-mlogloss:0.306192\tTest-mlogloss:0.400523\n",
      "[59]\tTrain-mlogloss:0.304344\tTest-mlogloss:0.399857\n",
      "[60]\tTrain-mlogloss:0.302722\tTest-mlogloss:0.399225\n",
      "[61]\tTrain-mlogloss:0.300997\tTest-mlogloss:0.39866\n",
      "[62]\tTrain-mlogloss:0.299524\tTest-mlogloss:0.39821\n",
      "[63]\tTrain-mlogloss:0.297937\tTest-mlogloss:0.397642\n",
      "[64]\tTrain-mlogloss:0.296517\tTest-mlogloss:0.397187\n",
      "[65]\tTrain-mlogloss:0.294996\tTest-mlogloss:0.39673\n",
      "[66]\tTrain-mlogloss:0.293399\tTest-mlogloss:0.396159\n",
      "[67]\tTrain-mlogloss:0.291991\tTest-mlogloss:0.39559\n",
      "[68]\tTrain-mlogloss:0.290726\tTest-mlogloss:0.395219\n",
      "[69]\tTrain-mlogloss:0.28939\tTest-mlogloss:0.394953\n",
      "[70]\tTrain-mlogloss:0.287731\tTest-mlogloss:0.394318\n",
      "[71]\tTrain-mlogloss:0.286481\tTest-mlogloss:0.393918\n",
      "[72]\tTrain-mlogloss:0.285229\tTest-mlogloss:0.393588\n",
      "[73]\tTrain-mlogloss:0.283811\tTest-mlogloss:0.393218\n",
      "[74]\tTrain-mlogloss:0.282354\tTest-mlogloss:0.39268\n",
      "[75]\tTrain-mlogloss:0.280928\tTest-mlogloss:0.392149\n",
      "[76]\tTrain-mlogloss:0.279539\tTest-mlogloss:0.391816\n",
      "[77]\tTrain-mlogloss:0.278187\tTest-mlogloss:0.391403\n",
      "[78]\tTrain-mlogloss:0.276939\tTest-mlogloss:0.391097\n",
      "[79]\tTrain-mlogloss:0.275584\tTest-mlogloss:0.390738\n",
      "[80]\tTrain-mlogloss:0.274189\tTest-mlogloss:0.390299\n",
      "[81]\tTrain-mlogloss:0.272887\tTest-mlogloss:0.389904\n",
      "[82]\tTrain-mlogloss:0.271605\tTest-mlogloss:0.38955\n",
      "[83]\tTrain-mlogloss:0.270307\tTest-mlogloss:0.389202\n",
      "[84]\tTrain-mlogloss:0.268872\tTest-mlogloss:0.388749\n",
      "[85]\tTrain-mlogloss:0.267539\tTest-mlogloss:0.388583\n",
      "[86]\tTrain-mlogloss:0.266312\tTest-mlogloss:0.388399\n",
      "[87]\tTrain-mlogloss:0.265112\tTest-mlogloss:0.388139\n",
      "[88]\tTrain-mlogloss:0.263777\tTest-mlogloss:0.387877\n",
      "[89]\tTrain-mlogloss:0.262334\tTest-mlogloss:0.387467\n",
      "[90]\tTrain-mlogloss:0.261217\tTest-mlogloss:0.387125\n",
      "[91]\tTrain-mlogloss:0.260014\tTest-mlogloss:0.387004\n",
      "[92]\tTrain-mlogloss:0.259\tTest-mlogloss:0.386879\n",
      "[93]\tTrain-mlogloss:0.257641\tTest-mlogloss:0.386638\n",
      "[94]\tTrain-mlogloss:0.256631\tTest-mlogloss:0.386346\n",
      "[95]\tTrain-mlogloss:0.255506\tTest-mlogloss:0.386109\n",
      "[96]\tTrain-mlogloss:0.254338\tTest-mlogloss:0.38592\n",
      "[97]\tTrain-mlogloss:0.253169\tTest-mlogloss:0.385771\n",
      "[98]\tTrain-mlogloss:0.251966\tTest-mlogloss:0.385554\n",
      "[99]\tTrain-mlogloss:0.250923\tTest-mlogloss:0.385399\n",
      "[100]\tTrain-mlogloss:0.249827\tTest-mlogloss:0.38524\n",
      "[101]\tTrain-mlogloss:0.248834\tTest-mlogloss:0.385007\n",
      "[102]\tTrain-mlogloss:0.247884\tTest-mlogloss:0.384933\n",
      "[103]\tTrain-mlogloss:0.246986\tTest-mlogloss:0.384675\n",
      "[104]\tTrain-mlogloss:0.245829\tTest-mlogloss:0.384417\n",
      "[105]\tTrain-mlogloss:0.244764\tTest-mlogloss:0.38423\n",
      "[106]\tTrain-mlogloss:0.243779\tTest-mlogloss:0.384049\n",
      "[107]\tTrain-mlogloss:0.24269\tTest-mlogloss:0.383796\n",
      "[108]\tTrain-mlogloss:0.241705\tTest-mlogloss:0.383655\n",
      "[109]\tTrain-mlogloss:0.240547\tTest-mlogloss:0.383327\n",
      "[110]\tTrain-mlogloss:0.239535\tTest-mlogloss:0.383191\n",
      "[111]\tTrain-mlogloss:0.238452\tTest-mlogloss:0.383153\n",
      "[112]\tTrain-mlogloss:0.237417\tTest-mlogloss:0.382939\n",
      "[113]\tTrain-mlogloss:0.236282\tTest-mlogloss:0.382812\n",
      "[114]\tTrain-mlogloss:0.235305\tTest-mlogloss:0.382695\n",
      "[115]\tTrain-mlogloss:0.234301\tTest-mlogloss:0.382624\n",
      "[116]\tTrain-mlogloss:0.233369\tTest-mlogloss:0.382515\n",
      "[117]\tTrain-mlogloss:0.232296\tTest-mlogloss:0.382301\n",
      "[118]\tTrain-mlogloss:0.231413\tTest-mlogloss:0.382189\n",
      "[119]\tTrain-mlogloss:0.230487\tTest-mlogloss:0.382065\n",
      "[120]\tTrain-mlogloss:0.229626\tTest-mlogloss:0.38205\n",
      "[121]\tTrain-mlogloss:0.228696\tTest-mlogloss:0.381907\n",
      "[122]\tTrain-mlogloss:0.227719\tTest-mlogloss:0.38176\n",
      "[123]\tTrain-mlogloss:0.226763\tTest-mlogloss:0.381638\n",
      "[124]\tTrain-mlogloss:0.225939\tTest-mlogloss:0.381484\n",
      "[125]\tTrain-mlogloss:0.2249\tTest-mlogloss:0.381351\n",
      "[126]\tTrain-mlogloss:0.224157\tTest-mlogloss:0.381223\n",
      "[127]\tTrain-mlogloss:0.223284\tTest-mlogloss:0.381115\n",
      "[128]\tTrain-mlogloss:0.222524\tTest-mlogloss:0.380982\n",
      "[129]\tTrain-mlogloss:0.221621\tTest-mlogloss:0.380957\n",
      "[130]\tTrain-mlogloss:0.220613\tTest-mlogloss:0.380954\n",
      "[131]\tTrain-mlogloss:0.219505\tTest-mlogloss:0.380885\n",
      "[132]\tTrain-mlogloss:0.218539\tTest-mlogloss:0.380851\n",
      "[133]\tTrain-mlogloss:0.217528\tTest-mlogloss:0.380698\n",
      "[134]\tTrain-mlogloss:0.216714\tTest-mlogloss:0.380565\n",
      "[135]\tTrain-mlogloss:0.215732\tTest-mlogloss:0.380499\n",
      "[136]\tTrain-mlogloss:0.214767\tTest-mlogloss:0.380482\n",
      "[137]\tTrain-mlogloss:0.213941\tTest-mlogloss:0.380364\n",
      "[138]\tTrain-mlogloss:0.213207\tTest-mlogloss:0.380302\n",
      "[139]\tTrain-mlogloss:0.212169\tTest-mlogloss:0.380189\n",
      "[140]\tTrain-mlogloss:0.211368\tTest-mlogloss:0.38014\n",
      "[141]\tTrain-mlogloss:0.210603\tTest-mlogloss:0.380138\n",
      "[142]\tTrain-mlogloss:0.209626\tTest-mlogloss:0.380039\n",
      "[143]\tTrain-mlogloss:0.208639\tTest-mlogloss:0.379942\n",
      "[144]\tTrain-mlogloss:0.207743\tTest-mlogloss:0.379881\n",
      "[145]\tTrain-mlogloss:0.20684\tTest-mlogloss:0.37976\n",
      "[146]\tTrain-mlogloss:0.206051\tTest-mlogloss:0.379584\n",
      "[147]\tTrain-mlogloss:0.205254\tTest-mlogloss:0.379528\n",
      "[148]\tTrain-mlogloss:0.204445\tTest-mlogloss:0.379516\n",
      "[149]\tTrain-mlogloss:0.20368\tTest-mlogloss:0.379466\n",
      "[150]\tTrain-mlogloss:0.202886\tTest-mlogloss:0.379428\n",
      "[151]\tTrain-mlogloss:0.202073\tTest-mlogloss:0.379387\n",
      "[152]\tTrain-mlogloss:0.201254\tTest-mlogloss:0.379369\n",
      "[153]\tTrain-mlogloss:0.20046\tTest-mlogloss:0.379339\n",
      "[154]\tTrain-mlogloss:0.199481\tTest-mlogloss:0.379259\n",
      "[155]\tTrain-mlogloss:0.198738\tTest-mlogloss:0.379249\n",
      "[156]\tTrain-mlogloss:0.198006\tTest-mlogloss:0.379208\n",
      "[157]\tTrain-mlogloss:0.197187\tTest-mlogloss:0.379252\n",
      "[158]\tTrain-mlogloss:0.196415\tTest-mlogloss:0.3792\n",
      "[159]\tTrain-mlogloss:0.195712\tTest-mlogloss:0.379144\n",
      "[160]\tTrain-mlogloss:0.194918\tTest-mlogloss:0.379182\n",
      "[161]\tTrain-mlogloss:0.194107\tTest-mlogloss:0.379257\n",
      "[162]\tTrain-mlogloss:0.193223\tTest-mlogloss:0.379265\n",
      "[163]\tTrain-mlogloss:0.192411\tTest-mlogloss:0.379213\n",
      "[164]\tTrain-mlogloss:0.191541\tTest-mlogloss:0.379194\n",
      "[165]\tTrain-mlogloss:0.190824\tTest-mlogloss:0.379199\n",
      "[166]\tTrain-mlogloss:0.190129\tTest-mlogloss:0.379176\n",
      "[167]\tTrain-mlogloss:0.189464\tTest-mlogloss:0.379181\n",
      "[168]\tTrain-mlogloss:0.188749\tTest-mlogloss:0.379288\n",
      "[169]\tTrain-mlogloss:0.188086\tTest-mlogloss:0.379259\n",
      "Stopping. Best iteration:\n",
      "[159]\tTrain-mlogloss:0.195712\tTest-mlogloss:0.379144\n",
      "\n"
     ]
    }
   ],
   "source": [
    "# Training the model\n",
    "\n",
    "import xgboost as xgb\n",
    "\n",
    "#Splitting the dataset\n",
    "X_train,X_test,y_train,y_test = train_test_split(X_res,y_res,test_size=0.3,random_state=RANDOM_STATE)\n",
    "\n",
    "#Fitting the Model\n",
    "params = {'objective':'multi:softprob','num_class':21,'max_depth': 9, \n",
    "          'eta': 0.20, 'booster': 'dart', 'reg_lambda': 30,\n",
    "          'colsample_bytre': 0.35 ,'subsample': 0.85,'eval_metric':'mlogloss','n_threads':2}\n",
    "num_boost_round=999\n",
    "early_stopping=10\n",
    "\n",
    "\n",
    "dtrain = xgb.DMatrix(X_train,label=y_train)\n",
    "dtest = xgb.DMatrix(X_test,label=y_test)\n",
    "\n",
    "evals = [(dtrain,'Train'),(dtest,'Test')]\n",
    "\n",
    "model = xgb.train(\n",
    "    params,\n",
    "    dtrain,\n",
    "    num_boost_round=num_boost_round,\n",
    "    evals=evals,\n",
    "    early_stopping_rounds=early_stopping\n",
    "    )"
   ]
  },
  {
   "cell_type": "code",
   "execution_count": 143,
   "metadata": {
    "colab": {},
    "colab_type": "code",
    "collapsed": true,
    "executionInfo": {
     "elapsed": 1065,
     "status": "ok",
     "timestamp": 1599503784671,
     "user": {
      "displayName": "Darrel Bhugwandas",
      "photoUrl": "",
      "userId": "11114491294548112497"
     },
     "user_tz": -120
    },
    "id": "xLA3Mc_Huu_J"
   },
   "outputs": [],
   "source": [
    "#Saving the model\n",
    "import pickle\n",
    "file_name = \"/content/drive/My Drive/Models/XGBOOST0-379144LL.pkl\"\n",
    "\n",
    "# save\n",
    "pickle.dump(model, open(file_name, \"wb\"))"
   ]
  },
  {
   "cell_type": "code",
   "execution_count": null,
   "metadata": {
    "colab": {},
    "colab_type": "code",
    "collapsed": true,
    "id": "JBndIgLPJ6ag"
   },
   "outputs": [],
   "source": [
    "#Load Model\n",
    "import pickle\n",
    "file_name = \"/content/drive/My Drive/Models/xgb-boostingS1.pkl\"\n",
    "model = pickle.load( open(file_name, \"rb\"))"
   ]
  },
  {
   "cell_type": "code",
   "execution_count": 144,
   "metadata": {
    "colab": {},
    "colab_type": "code",
    "collapsed": true,
    "executionInfo": {
     "elapsed": 4361,
     "status": "ok",
     "timestamp": 1599503805051,
     "user": {
      "displayName": "Darrel Bhugwandas",
      "photoUrl": "",
      "userId": "11114491294548112497"
     },
     "user_tz": -120
    },
    "id": "gtWMhcIKIfAb"
   },
   "outputs": [],
   "source": [
    "# --------- PIPELINE FOR PREDICTION AND CREATING SUBMISSION FILES ----------#\n",
    "\n",
    "#Making predictions of Test Set\n",
    "X_test1 = df_test.drop(columns=['ID'])[BF].to_numpy()\n",
    "final_test = xgb.DMatrix(X_test1)\n",
    "pred_prob = model.predict(final_test,ntree_limit=159)"
   ]
  },
  {
   "cell_type": "code",
   "execution_count": 145,
   "metadata": {
    "colab": {},
    "colab_type": "code",
    "collapsed": true,
    "executionInfo": {
     "elapsed": 579397,
     "status": "ok",
     "timestamp": 1599504383059,
     "user": {
      "displayName": "Darrel Bhugwandas",
      "photoUrl": "",
      "userId": "11114491294548112497"
     },
     "user_tz": -120
    },
    "id": "puGpj6-kIfAf"
   },
   "outputs": [],
   "source": [
    "def submission(predict_prob,classes,df_test):\n",
    "    ''' Creates Submission Files from \n",
    "        Probability Outputs, Product names list and \n",
    "        Test file for ID and existing product Extraction'''\n",
    "    \n",
    "    #ID Counter\n",
    "    counter = 0\n",
    "    #Output dictionary\n",
    "    output = {'ID X PCODE':[],'Label':[]}\n",
    "\n",
    "    #Iterating over ID values in test data\n",
    "    for idd in df_test['ID'].values:\n",
    "        #Iterating over all probabilities per row\n",
    "        for i,prob in enumerate(predict_prob[counter]):\n",
    "            # Setting product name \n",
    "            product_name = classes[i]\n",
    "            #Checking if current ID already has product, and set prob = 1 if so\n",
    "            if df_test.loc[df_test['ID']==idd,product_name].values[0] == 1:\n",
    "                prob = 1\n",
    "            output['ID X PCODE'] = output['ID X PCODE'] + [str(idd) + \" X \" + str(product_name)]\n",
    "            output['Label'] = output['Label'] + [prob]\n",
    "        counter += 1\n",
    "    return output\n",
    "\n",
    "output = submission(pred_prob,product_cols,df_test)"
   ]
  },
  {
   "cell_type": "code",
   "execution_count": 146,
   "metadata": {
    "colab": {},
    "colab_type": "code",
    "collapsed": true,
    "executionInfo": {
     "elapsed": 2974,
     "status": "ok",
     "timestamp": 1599504386091,
     "user": {
      "displayName": "Darrel Bhugwandas",
      "photoUrl": "",
      "userId": "11114491294548112497"
     },
     "user_tz": -120
    },
    "id": "yXpDgLv6IfAk"
   },
   "outputs": [],
   "source": [
    "df_submission = pd.DataFrame.from_dict(output)\n",
    "df_submission.to_csv(\"Submission_15.csv\",index=False)"
   ]
  },
  {
   "cell_type": "code",
   "execution_count": 147,
   "metadata": {
    "colab": {
     "base_uri": "https://localhost:8080/",
     "height": 1000
    },
    "colab_type": "code",
    "collapsed": false,
    "executionInfo": {
     "elapsed": 2900,
     "status": "ok",
     "timestamp": 1599504386093,
     "user": {
      "displayName": "Darrel Bhugwandas",
      "photoUrl": "",
      "userId": "11114491294548112497"
     },
     "user_tz": -120
    },
    "id": "u22wPUk7IfAo",
    "outputId": "30399a29-2250-4fb1-80b9-11439dde2bc7"
   },
   "outputs": [
    {
     "data": {
      "text/html": [
       "<div>\n",
       "<style scoped>\n",
       "    .dataframe tbody tr th:only-of-type {\n",
       "        vertical-align: middle;\n",
       "    }\n",
       "\n",
       "    .dataframe tbody tr th {\n",
       "        vertical-align: top;\n",
       "    }\n",
       "\n",
       "    .dataframe thead th {\n",
       "        text-align: right;\n",
       "    }\n",
       "</style>\n",
       "<table border=\"1\" class=\"dataframe\">\n",
       "  <thead>\n",
       "    <tr style=\"text-align: right;\">\n",
       "      <th></th>\n",
       "      <th>ID X PCODE</th>\n",
       "      <th>Label</th>\n",
       "    </tr>\n",
       "  </thead>\n",
       "  <tbody>\n",
       "    <tr>\n",
       "      <th>0</th>\n",
       "      <td>F86J5PC X P5DA</td>\n",
       "      <td>0.000020</td>\n",
       "    </tr>\n",
       "    <tr>\n",
       "      <th>1</th>\n",
       "      <td>F86J5PC X RIBP</td>\n",
       "      <td>0.000158</td>\n",
       "    </tr>\n",
       "    <tr>\n",
       "      <th>2</th>\n",
       "      <td>F86J5PC X 8NN1</td>\n",
       "      <td>0.000009</td>\n",
       "    </tr>\n",
       "    <tr>\n",
       "      <th>3</th>\n",
       "      <td>F86J5PC X 7POT</td>\n",
       "      <td>0.000061</td>\n",
       "    </tr>\n",
       "    <tr>\n",
       "      <th>4</th>\n",
       "      <td>F86J5PC X 66FJ</td>\n",
       "      <td>0.000051</td>\n",
       "    </tr>\n",
       "    <tr>\n",
       "      <th>5</th>\n",
       "      <td>F86J5PC X GYSR</td>\n",
       "      <td>0.000016</td>\n",
       "    </tr>\n",
       "    <tr>\n",
       "      <th>6</th>\n",
       "      <td>F86J5PC X SOP4</td>\n",
       "      <td>0.000073</td>\n",
       "    </tr>\n",
       "    <tr>\n",
       "      <th>7</th>\n",
       "      <td>F86J5PC X RVSZ</td>\n",
       "      <td>1.000000</td>\n",
       "    </tr>\n",
       "    <tr>\n",
       "      <th>8</th>\n",
       "      <td>F86J5PC X PYUQ</td>\n",
       "      <td>0.000515</td>\n",
       "    </tr>\n",
       "    <tr>\n",
       "      <th>9</th>\n",
       "      <td>F86J5PC X LJR9</td>\n",
       "      <td>0.000020</td>\n",
       "    </tr>\n",
       "    <tr>\n",
       "      <th>10</th>\n",
       "      <td>F86J5PC X N2MW</td>\n",
       "      <td>0.000085</td>\n",
       "    </tr>\n",
       "    <tr>\n",
       "      <th>11</th>\n",
       "      <td>F86J5PC X AHXO</td>\n",
       "      <td>0.000030</td>\n",
       "    </tr>\n",
       "    <tr>\n",
       "      <th>12</th>\n",
       "      <td>F86J5PC X BSTQ</td>\n",
       "      <td>0.000013</td>\n",
       "    </tr>\n",
       "    <tr>\n",
       "      <th>13</th>\n",
       "      <td>F86J5PC X FM3X</td>\n",
       "      <td>0.000019</td>\n",
       "    </tr>\n",
       "    <tr>\n",
       "      <th>14</th>\n",
       "      <td>F86J5PC X K6QO</td>\n",
       "      <td>0.989655</td>\n",
       "    </tr>\n",
       "    <tr>\n",
       "      <th>15</th>\n",
       "      <td>F86J5PC X QBOL</td>\n",
       "      <td>0.005912</td>\n",
       "    </tr>\n",
       "    <tr>\n",
       "      <th>16</th>\n",
       "      <td>F86J5PC X JWFN</td>\n",
       "      <td>0.000053</td>\n",
       "    </tr>\n",
       "    <tr>\n",
       "      <th>17</th>\n",
       "      <td>F86J5PC X JZ9D</td>\n",
       "      <td>0.000009</td>\n",
       "    </tr>\n",
       "    <tr>\n",
       "      <th>18</th>\n",
       "      <td>F86J5PC X J9JW</td>\n",
       "      <td>0.000016</td>\n",
       "    </tr>\n",
       "    <tr>\n",
       "      <th>19</th>\n",
       "      <td>F86J5PC X GHYX</td>\n",
       "      <td>0.002283</td>\n",
       "    </tr>\n",
       "    <tr>\n",
       "      <th>20</th>\n",
       "      <td>F86J5PC X ECY3</td>\n",
       "      <td>0.000973</td>\n",
       "    </tr>\n",
       "    <tr>\n",
       "      <th>21</th>\n",
       "      <td>H6141K3 X P5DA</td>\n",
       "      <td>0.001249</td>\n",
       "    </tr>\n",
       "    <tr>\n",
       "      <th>22</th>\n",
       "      <td>H6141K3 X RIBP</td>\n",
       "      <td>0.001627</td>\n",
       "    </tr>\n",
       "    <tr>\n",
       "      <th>23</th>\n",
       "      <td>H6141K3 X 8NN1</td>\n",
       "      <td>0.000464</td>\n",
       "    </tr>\n",
       "    <tr>\n",
       "      <th>24</th>\n",
       "      <td>H6141K3 X 7POT</td>\n",
       "      <td>0.000931</td>\n",
       "    </tr>\n",
       "    <tr>\n",
       "      <th>25</th>\n",
       "      <td>H6141K3 X 66FJ</td>\n",
       "      <td>0.000694</td>\n",
       "    </tr>\n",
       "    <tr>\n",
       "      <th>26</th>\n",
       "      <td>H6141K3 X GYSR</td>\n",
       "      <td>0.000263</td>\n",
       "    </tr>\n",
       "    <tr>\n",
       "      <th>27</th>\n",
       "      <td>H6141K3 X SOP4</td>\n",
       "      <td>0.001393</td>\n",
       "    </tr>\n",
       "    <tr>\n",
       "      <th>28</th>\n",
       "      <td>H6141K3 X RVSZ</td>\n",
       "      <td>1.000000</td>\n",
       "    </tr>\n",
       "    <tr>\n",
       "      <th>29</th>\n",
       "      <td>H6141K3 X PYUQ</td>\n",
       "      <td>0.002790</td>\n",
       "    </tr>\n",
       "    <tr>\n",
       "      <th>30</th>\n",
       "      <td>H6141K3 X LJR9</td>\n",
       "      <td>0.000566</td>\n",
       "    </tr>\n",
       "    <tr>\n",
       "      <th>31</th>\n",
       "      <td>H6141K3 X N2MW</td>\n",
       "      <td>0.002365</td>\n",
       "    </tr>\n",
       "    <tr>\n",
       "      <th>32</th>\n",
       "      <td>H6141K3 X AHXO</td>\n",
       "      <td>0.001140</td>\n",
       "    </tr>\n",
       "    <tr>\n",
       "      <th>33</th>\n",
       "      <td>H6141K3 X BSTQ</td>\n",
       "      <td>0.000167</td>\n",
       "    </tr>\n",
       "    <tr>\n",
       "      <th>34</th>\n",
       "      <td>H6141K3 X FM3X</td>\n",
       "      <td>0.000423</td>\n",
       "    </tr>\n",
       "    <tr>\n",
       "      <th>35</th>\n",
       "      <td>H6141K3 X K6QO</td>\n",
       "      <td>1.000000</td>\n",
       "    </tr>\n",
       "    <tr>\n",
       "      <th>36</th>\n",
       "      <td>H6141K3 X QBOL</td>\n",
       "      <td>0.465599</td>\n",
       "    </tr>\n",
       "    <tr>\n",
       "      <th>37</th>\n",
       "      <td>H6141K3 X JWFN</td>\n",
       "      <td>0.020834</td>\n",
       "    </tr>\n",
       "    <tr>\n",
       "      <th>38</th>\n",
       "      <td>H6141K3 X JZ9D</td>\n",
       "      <td>0.000108</td>\n",
       "    </tr>\n",
       "    <tr>\n",
       "      <th>39</th>\n",
       "      <td>H6141K3 X J9JW</td>\n",
       "      <td>0.000132</td>\n",
       "    </tr>\n",
       "    <tr>\n",
       "      <th>40</th>\n",
       "      <td>H6141K3 X GHYX</td>\n",
       "      <td>0.459345</td>\n",
       "    </tr>\n",
       "    <tr>\n",
       "      <th>41</th>\n",
       "      <td>H6141K3 X ECY3</td>\n",
       "      <td>0.037790</td>\n",
       "    </tr>\n",
       "    <tr>\n",
       "      <th>42</th>\n",
       "      <td>RBAYUXZ X P5DA</td>\n",
       "      <td>0.000758</td>\n",
       "    </tr>\n",
       "    <tr>\n",
       "      <th>43</th>\n",
       "      <td>RBAYUXZ X RIBP</td>\n",
       "      <td>0.001552</td>\n",
       "    </tr>\n",
       "    <tr>\n",
       "      <th>44</th>\n",
       "      <td>RBAYUXZ X 8NN1</td>\n",
       "      <td>0.006832</td>\n",
       "    </tr>\n",
       "    <tr>\n",
       "      <th>45</th>\n",
       "      <td>RBAYUXZ X 7POT</td>\n",
       "      <td>0.000935</td>\n",
       "    </tr>\n",
       "    <tr>\n",
       "      <th>46</th>\n",
       "      <td>RBAYUXZ X 66FJ</td>\n",
       "      <td>0.001925</td>\n",
       "    </tr>\n",
       "    <tr>\n",
       "      <th>47</th>\n",
       "      <td>RBAYUXZ X GYSR</td>\n",
       "      <td>0.000064</td>\n",
       "    </tr>\n",
       "    <tr>\n",
       "      <th>48</th>\n",
       "      <td>RBAYUXZ X SOP4</td>\n",
       "      <td>0.002678</td>\n",
       "    </tr>\n",
       "    <tr>\n",
       "      <th>49</th>\n",
       "      <td>RBAYUXZ X RVSZ</td>\n",
       "      <td>1.000000</td>\n",
       "    </tr>\n",
       "  </tbody>\n",
       "</table>\n",
       "</div>"
      ],
      "text/plain": [
       "        ID X PCODE     Label\n",
       "0   F86J5PC X P5DA  0.000020\n",
       "1   F86J5PC X RIBP  0.000158\n",
       "2   F86J5PC X 8NN1  0.000009\n",
       "3   F86J5PC X 7POT  0.000061\n",
       "4   F86J5PC X 66FJ  0.000051\n",
       "5   F86J5PC X GYSR  0.000016\n",
       "6   F86J5PC X SOP4  0.000073\n",
       "7   F86J5PC X RVSZ  1.000000\n",
       "8   F86J5PC X PYUQ  0.000515\n",
       "9   F86J5PC X LJR9  0.000020\n",
       "10  F86J5PC X N2MW  0.000085\n",
       "11  F86J5PC X AHXO  0.000030\n",
       "12  F86J5PC X BSTQ  0.000013\n",
       "13  F86J5PC X FM3X  0.000019\n",
       "14  F86J5PC X K6QO  0.989655\n",
       "15  F86J5PC X QBOL  0.005912\n",
       "16  F86J5PC X JWFN  0.000053\n",
       "17  F86J5PC X JZ9D  0.000009\n",
       "18  F86J5PC X J9JW  0.000016\n",
       "19  F86J5PC X GHYX  0.002283\n",
       "20  F86J5PC X ECY3  0.000973\n",
       "21  H6141K3 X P5DA  0.001249\n",
       "22  H6141K3 X RIBP  0.001627\n",
       "23  H6141K3 X 8NN1  0.000464\n",
       "24  H6141K3 X 7POT  0.000931\n",
       "25  H6141K3 X 66FJ  0.000694\n",
       "26  H6141K3 X GYSR  0.000263\n",
       "27  H6141K3 X SOP4  0.001393\n",
       "28  H6141K3 X RVSZ  1.000000\n",
       "29  H6141K3 X PYUQ  0.002790\n",
       "30  H6141K3 X LJR9  0.000566\n",
       "31  H6141K3 X N2MW  0.002365\n",
       "32  H6141K3 X AHXO  0.001140\n",
       "33  H6141K3 X BSTQ  0.000167\n",
       "34  H6141K3 X FM3X  0.000423\n",
       "35  H6141K3 X K6QO  1.000000\n",
       "36  H6141K3 X QBOL  0.465599\n",
       "37  H6141K3 X JWFN  0.020834\n",
       "38  H6141K3 X JZ9D  0.000108\n",
       "39  H6141K3 X J9JW  0.000132\n",
       "40  H6141K3 X GHYX  0.459345\n",
       "41  H6141K3 X ECY3  0.037790\n",
       "42  RBAYUXZ X P5DA  0.000758\n",
       "43  RBAYUXZ X RIBP  0.001552\n",
       "44  RBAYUXZ X 8NN1  0.006832\n",
       "45  RBAYUXZ X 7POT  0.000935\n",
       "46  RBAYUXZ X 66FJ  0.001925\n",
       "47  RBAYUXZ X GYSR  0.000064\n",
       "48  RBAYUXZ X SOP4  0.002678\n",
       "49  RBAYUXZ X RVSZ  1.000000"
      ]
     },
     "execution_count": 147,
     "metadata": {
      "tags": []
     },
     "output_type": "execute_result"
    }
   ],
   "source": [
    "pd.read_csv(\"Submission_15.csv\").head(50)"
   ]
  }
 ],
 "metadata": {
  "accelerator": "GPU",
  "colab": {
   "collapsed_sections": [],
   "name": "XGBoost - 0.379144logloss .ipynb",
   "provenance": [
    {
     "file_id": "1d9mw0MzTqOoXlGxi-xdNIw98TBFQd-O2",
     "timestamp": 1599493441495
    },
    {
     "file_id": "1QxituIDoekuHCpT08flDVKZqKRS8A5ic",
     "timestamp": 1599463683115
    },
    {
     "file_id": "1FjwKQ5H_sIqr2dQQWg0d1UDOFgob0z9d",
     "timestamp": 1598900147728
    },
    {
     "file_id": "19_UOWnFmS_3I7kte-foT8QdJf22_0LrT",
     "timestamp": 1598814193140
    }
   ]
  },
  "kernelspec": {
   "display_name": "Python 3",
   "language": "python",
   "name": "python3"
  },
  "language_info": {
   "codemirror_mode": {
    "name": "ipython",
    "version": 3
   },
   "file_extension": ".py",
   "mimetype": "text/x-python",
   "name": "python",
   "nbconvert_exporter": "python",
   "pygments_lexer": "ipython3",
   "version": "3.6.0"
  }
 },
 "nbformat": 4,
 "nbformat_minor": 0
}
